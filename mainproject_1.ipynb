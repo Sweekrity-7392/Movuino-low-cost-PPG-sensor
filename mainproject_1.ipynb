import numpy as np
import matplotlib.pylab as plt
from sklearn import preprocessing

f = open('fingertip.csv','r')
F = f.read()
G = F.split()
G = [float(x) for x in G]
#print(np.shape(G))
H = np.reshape(G,(-1,1))
H = H
plt.plot(H)
plt.show()

#filtering by mean centering

#m = H.mean(axis=0)
#X = H - m
#print(np.size(X))

t = np.array(range(-650,650))
X = preprocessing.scale(H)
plt.plot(t,X)
plt.show()


# baseline removed

sum2 = 0
t1 = [(i**2) for i in t]
for i in range(0,len(t1)):
    sum2 = sum2 + t1[i]
print(sum2)

sum1 = 0
for i in range(0,len(t)):
    sum1 = sum1 + t[i]*X[i]
print(float(sum1))

b = sum1/sum2
print(b)
y = []
for i in range(len(t)):
    b1 = b * t[i]
    b2 = X[i] - b1
    y.append(b2)
    
plt.plot(t,y)
plt.show()

#FFT
W = np.fft.fft(y)
W = abs(W)
#print(W)
#print(V)
plt.plot(W[0:200])
plt.show()


