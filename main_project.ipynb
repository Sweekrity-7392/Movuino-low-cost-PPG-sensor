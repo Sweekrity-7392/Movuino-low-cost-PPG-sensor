import numpy as np
#from numpy import convolve
import matplotlib.pylab as plt
#import peakutils as pk
#from peakutils.plot import plot as pplot
#from scipy.misc import sci
from scipy.signal import find_peaks
#import pandas as pd

f = open('Wristdata_new sensor.csv','r')
F = f.read()
#print(F)
G = F.split('\n')
#print(G)
G = [elements.split(',') for elements in G]
print(np.shape(G))
print(len(G))
G = G[0:5770]
#print(G)
#G = [[float(x) for x in row] for row in G]
G = np.reshape(G,(-1,5))
print(np.shape(G))

H = G[530:1900]
I = G[2900:5770]
H = np.transpose(H)
H = H[1:]
#print(H)
I = np.transpose(I)
I = I[1:]
H = [[float(x) for x in row] for row in H]
I = [[float(x) for x in row] for row in I]

#plotting red raw, IR raw and Red,IR raw
plt.plot(H[2])
plt.show()
plt.plot(H[3])
plt.show()
#plt.plot(H[2])
#plt.plot(H[3])
plt.show()

#plotting filtered data
plt.plot(I[2])
plt.show()
plt.plot(I[3])
plt.show()
#plt.plot(I[2])
#plt.plot(I[3])
#plt.show()

W = np.fft.fft(I[2])
W = abs(W)
V = W[1:]
#print(W)
#print(V)
plt.plot(V)
plt.show()

X = np.fft.fft(I[3])
X = abs(W)
Y = X[1:]
#print(W)
#print(V)
plt.plot(Y)
plt.show()

#plt.hist(H[2])
#plt.figure()
#plt.hist(H[3])

h = np.array(H)
h = h.astype(int)
i = np.array(I)
i = i.astype(int)

x = h[2][10:]
y = h[3][10:]
z = i[2][25:]
w = i[3][100:]

peaks, properties = find_peaks(x[150:], threshold= 0,distance = 30, width = 10)
properties["widths"]
plt.plot(x[150:])
plt.plot(peaks, x[150:][peaks], "x")
plt.show()

peaks, properties = find_peaks(y, distance = 30, width = 10)
properties["widths"]
plt.plot(y)
plt.plot(peaks, y[peaks], "x")
plt.show()

peaks, properties = find_peaks(z, distance = 30, width = 10)
properties["widths"]
plt.plot(z)
plt.plot(peaks, z[peaks], "x")
plt.show()

peaks, properties = find_peaks(w, distance = 30, width = 10)
properties["widths"]
plt.plot(w)
plt.plot(peaks, w[peaks], "x")
plt.show()